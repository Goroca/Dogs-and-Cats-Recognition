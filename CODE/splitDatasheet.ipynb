{
 "cells": [
  {
   "cell_type": "code",
   "execution_count": 1,
   "metadata": {},
   "outputs": [
    {
     "name": "stderr",
     "output_type": "stream",
     "text": [
      "Using TensorFlow backend.\n"
     ]
    }
   ],
   "source": [
    "import os\n",
    "from keras.preprocessing.image import load_img\n"
   ]
  },
  {
   "cell_type": "code",
   "execution_count": 2,
   "metadata": {},
   "outputs": [],
   "source": [
    "data_path = \"../DATA/original-dogs-vs-cats/train/\"\n",
    "BW_path = \"../DATA/BW-dogs-vs-cats/\"\n",
    "\n",
    "BW_train_dog_path = \"../DATA/BW-dogs-vs-cats/train/dog/\"\n",
    "BW_train_cat_path = \"../DATA/BW-dogs-vs-cats/train/cat/\"\n",
    "BW_test_dog_path = \"../DATA/BW-dogs-vs-cats/test/dog/\"\n",
    "BW_test_cat_path = \"../DATA/BW-dogs-vs-cats/test/cat/\"\n",
    "\n",
    "train_dog_path = \"../DATA/dogs-vs-cats/train/dog/\"\n",
    "train_cat_path = \"../DATA/dogs-vs-cats/train/cat/\"\n",
    "test_dog_path = \"../DATA/dogs-vs-cats/test/dog/\"\n",
    "test_cat_path = \"../DATA/dogs-vs-cats/test/cat/\"\n",
    "\n",
    "shape_size = 200\n",
    "trainable_data = 0.8"
   ]
  },
  {
   "cell_type": "code",
   "execution_count": 3,
   "metadata": {},
   "outputs": [],
   "source": [
    "aux = os.listdir(data_path) # dir is your directory path\n",
    "number_images = len(aux)\n",
    "trainable_length = number_images*trainable_data\n",
    "\n",
    "dogs_images = 0\n",
    "cats_images = 0\n",
    "\n",
    "for file in os.listdir(data_path):\n",
    "\t# determine class\n",
    "\tif file.startswith('dog'):\n",
    "\t\tdogs_images = dogs_images + 1\n",
    "\telse:\n",
    "\t\tcats_images = cats_images + 1\n",
    "\n",
    "trainableDogs_length = int(dogs_images*trainable_data)\n",
    "trainableCats_length = int(cats_images*trainable_data)\n",
    "\n",
    "if not os.path.exists(train_dog_path):\n",
    "    os.makedirs(train_dog_path)\n",
    "if not os.path.exists(train_cat_path):\n",
    "    os.makedirs(train_cat_path)\n",
    "if not os.path.exists(test_dog_path):\n",
    "    os.makedirs(test_dog_path)\n",
    "if not os.path.exists(test_cat_path):\n",
    "    os.makedirs(test_cat_path)\n",
    "\n",
    "if not os.path.exists(BW_train_dog_path):\n",
    "    os.makedirs(BW_train_dog_path)\n",
    "if not os.path.exists(BW_train_cat_path):\n",
    "    os.makedirs(BW_train_cat_path)\n",
    "if not os.path.exists(BW_test_dog_path):\n",
    "    os.makedirs(BW_test_dog_path)\n",
    "if not os.path.exists(BW_test_cat_path):\n",
    "    os.makedirs(BW_test_cat_path)\n",
    "\n",
    "# enumerate files in the directory\n",
    "dog = 0\n",
    "cat = 0\n",
    "for file in os.listdir(data_path):\n",
    "\n",
    "\tphoto = load_img(data_path + file, target_size=(shape_size, shape_size))\n",
    "\tphotoBW = photo.convert('L')\n",
    "\tif file.startswith('dog'):\n",
    "\t\tif dog < trainableDogs_length:\n",
    "\t\t\tphoto.save(train_dog_path + str(dog) + \".png\")\n",
    "\t\t\tphotoBW.save(BW_train_dog_path + str(dog) + \".png\")\n",
    "\t\telse:\n",
    "\t\t\tphoto.save(test_dog_path + str(dog) + \".png\")\n",
    "\t\t\tphotoBW.save(BW_test_dog_path + str(dog) + \".png\")\n",
    "\n",
    "\t\tdog = dog + 1\n",
    "\telse:\n",
    "\t\tif cat < trainableCats_length:\n",
    "\t\t\tphoto.save(train_cat_path + str(cat) + \".png\")\n",
    "\t\t\tphotoBW.save(BW_train_cat_path + str(cat) + \".png\")\n",
    "\t\telse:\n",
    "\t\t\tphoto.save(test_cat_path + str(cat) + \".png\")\n",
    "\t\t\tphotoBW.save(BW_test_cat_path + str(cat) + \".png\")\n",
    "\t\tcat = cat + 1\n",
    "\n"
   ]
  }
 ],
 "metadata": {
  "interpreter": {
   "hash": "23972bf2e42edf0cda62a7d3e4c41d6748eb1c8c653b181e261401f4cfa290b9"
  },
  "kernelspec": {
   "display_name": "Python 3.6.15 64-bit ('Python3_6': conda)",
   "language": "python",
   "name": "python3"
  },
  "language_info": {
   "codemirror_mode": {
    "name": "ipython",
    "version": 3
   },
   "file_extension": ".py",
   "mimetype": "text/x-python",
   "name": "python",
   "nbconvert_exporter": "python",
   "pygments_lexer": "ipython3",
   "version": "3.6.15"
  },
  "orig_nbformat": 4
 },
 "nbformat": 4,
 "nbformat_minor": 2
}
